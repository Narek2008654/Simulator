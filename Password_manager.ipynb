{
  "nbformat": 4,
  "nbformat_minor": 0,
  "metadata": {
    "colab": {
      "provenance": []
    },
    "kernelspec": {
      "name": "python3",
      "display_name": "Python 3"
    },
    "language_info": {
      "name": "python"
    }
  },
  "cells": [
    {
      "cell_type": "code",
      "source": [
        "import string\n",
        "\n",
        "# Color levels based on the chart\n",
        "def get_strength_color(seconds):\n",
        "    if seconds < 60:  # less than 1 minute\n",
        "        return \"🟣 Very Weak\"\n",
        "    elif seconds < 3600 * 24 * 365:  # less than 1 year\n",
        "        return \"🔴 Weak\"\n",
        "    elif seconds < 3600 * 24 * 365 * 1000:  # less than 1000 years\n",
        "        return \"🟠 Moderate\"\n",
        "    elif seconds < 3600 * 24 * 365 * 100000:  # less than 100k years\n",
        "        return \"🟡 Strong\"\n",
        "    else:\n",
        "        return \"🟢 Very Strong\"\n",
        "\n",
        "# Determine charset size based on password characters\n",
        "def get_charset_size(password):\n",
        "    has_lower = any(c in string.ascii_lowercase for c in password)\n",
        "    has_upper = any(c in string.ascii_uppercase for c in password)\n",
        "    has_digits = any(c in string.digits for c in password)\n",
        "    has_symbols = any(c in string.punctuation for c in password)\n",
        "\n",
        "    size = 0\n",
        "    if has_lower:\n",
        "        size += 26\n",
        "    if has_upper:\n",
        "        size += 26\n",
        "    if has_digits:\n",
        "        size += 10\n",
        "    if has_symbols:\n",
        "        size += 33  # Approximate number of printable ASCII symbols\n",
        "\n",
        "    return size\n",
        "\n",
        "def password_strength(password):\n",
        "    attempts_per_second = 1e10  # 10 billion guesses/sec\n",
        "    length = len(password)\n",
        "    charset_size = get_charset_size(password)\n",
        "\n",
        "    if charset_size == 0:\n",
        "        return \"Invalid password\"\n",
        "\n",
        "    total_combinations = charset_size ** length\n",
        "    crack_time = total_combinations / attempts_per_second\n",
        "\n",
        "    return get_strength_color(crack_time)\n",
        "\n",
        "# Example usage\n",
        "passwords = [\"1234\", \"password\", \"Pass123\", \"P@ssw0rd!\", \"S9&k@t2Y!gBv\"]\n",
        "for pwd in passwords:\n",
        "    print(f\"'{pwd}': {password_strength(pwd)}\")"
      ],
      "metadata": {
        "colab": {
          "base_uri": "https://localhost:8080/"
        },
        "id": "QUxs-VLJUdbD",
        "outputId": "3991febd-fff3-483e-cc50-a909689af834"
      },
      "execution_count": null,
      "outputs": [
        {
          "output_type": "stream",
          "name": "stdout",
          "text": [
            "'1234': 🟣 Very Weak\n",
            "'password': 🟣 Very Weak\n",
            "'Pass123': 🔴 Weak\n",
            "'P@ssw0rd!': 🟠 Moderate\n",
            "'S9&k@t2Y!gBv': 🟢 Very Strong\n"
          ]
        }
      ]
    },
    {
      "cell_type": "code",
      "source": [
        "!pip install pycryptodome\n"
      ],
      "metadata": {
        "colab": {
          "base_uri": "https://localhost:8080/"
        },
        "id": "wyZR2ZSaEVga",
        "outputId": "c3948a24-4ce4-4ad6-aa63-7e3888fe28c1"
      },
      "execution_count": null,
      "outputs": [
        {
          "output_type": "stream",
          "name": "stdout",
          "text": [
            "Requirement already satisfied: pycryptodome in /usr/local/lib/python3.11/dist-packages (3.23.0)\n"
          ]
        }
      ]
    },
    {
      "cell_type": "code",
      "source": [
        "import re\n",
        "import inspect\n",
        "import base64\n",
        "import hashlib\n",
        "from Crypto import Random\n",
        "from Crypto.Cipher import AES\n",
        "\n",
        "class PasswordManager():\n",
        "  def __init__(self, file_name, key):\n",
        "        self.bs = AES.block_size  # Обычно 16 байт\n",
        "        self.key = hashlib.sha256(key.encode()).digest()\n",
        "        self.site = \"\"\n",
        "        self.password = \"\"\n",
        "        self.file_name = file_name\n",
        "        with open(f\"{self.file_name}.txt\", \"w\") as f:\n",
        "            f.write(\"This is your password manager\\n\")\n",
        "\n",
        "  def encrypt(self, raw):\n",
        "      raw = self._pad(raw.encode())  # 🔁 Паддинг сразу на байты\n",
        "      iv = Random.new().read(AES.block_size)\n",
        "      cipher = AES.new(self.key, AES.MODE_CBC, iv)\n",
        "      return base64.b64encode(iv + cipher.encrypt(raw))\n",
        "\n",
        "  def decrypt(self, enc):\n",
        "      enc = base64.b64decode(enc)\n",
        "      iv = enc[:AES.block_size]\n",
        "      cipher = AES.new(self.key, AES.MODE_CBC, iv)\n",
        "      decrypted = cipher.decrypt(enc[AES.block_size:])\n",
        "      return self._unpad(decrypted).decode('utf-8')\n",
        "\n",
        "  def _pad(self, b):\n",
        "      pad_len = self.bs - len(b) % self.bs\n",
        "      return b + bytes([pad_len] * pad_len)\n",
        "\n",
        "  @staticmethod\n",
        "  def _unpad(b):\n",
        "        return b[:-b[-1]]\n",
        "\n",
        "  def get_password(self):\n",
        "    caller = inspect.stack()[1].function\n",
        "    if not caller in dir(PasswordManager):\n",
        "        self.site=input('Input the website: ')\n",
        "    with open(f\"{self.file_name}.txt\", \"r\") as f:\n",
        "        for self.line in f:\n",
        "            if self.line.startswith(f\"{self.site}:\"):\n",
        "              self.password=self.line.strip().split(\": \")[1]\n",
        "              break\n",
        "    if self.password==\"\" and not caller in dir(PasswordManager):\n",
        "      print(\"Password not found\")\n",
        "      return None\n",
        "    elif self.password==\"\":\n",
        "      return None\n",
        "    else:\n",
        "      self.password=self.decrypt(self.password)\n",
        "      return self.password\n",
        "\n",
        "  @staticmethod\n",
        "  def generate_passwaord(l_of_p=10, upper_case=True ,lower_case=True,numbers=True,symbols=True):\n",
        "    passw=[]\n",
        "    up_case=\"\"\n",
        "    low_case=\"\"\n",
        "    num=\"\"\n",
        "    sym=\"\"\n",
        "    if upper_case:\n",
        "      up_case=string.ascii_uppercase[:]\n",
        "      passw.append(random.choice(up_case))\n",
        "    if lower_case:\n",
        "      low_case=string.ascii_lowercase[:]\n",
        "      passw.append(random.choice(low_case))\n",
        "    if numbers:\n",
        "      num=string.digits[:]\n",
        "      passw.append(random.choice(num))\n",
        "    if symbols:\n",
        "      sym=string.punctuation[:]\n",
        "      passw.append(random.choice(sym))\n",
        "    all=up_case+low_case+num+sym\n",
        "    for i in range(l_of_p-upper_case-lower_case-numbers-symbols):\n",
        "      passw.append(random.choice(all))\n",
        "    random.shuffle(passw)\n",
        "    result = \"\".join(passw)\n",
        "    print(f\"Your new password is: {result}\")\n",
        "    return result\n",
        "\n",
        "  @staticmethod\n",
        "  def str_into_bool(string):\n",
        "    if string==\"y\":\n",
        "      return True\n",
        "    else:\n",
        "      return False\n",
        "  def add_change_password(self):\n",
        "    self.site=input('Input the website: ')\n",
        "    self.password=\"\"\n",
        "    if not self.get_password():\n",
        "      self.password=input('Input the password or generate it by writing generate: ')\n",
        "      if self.password==\"generate\":\n",
        "        self.l_of_p=int(input('Input the length of the password: '))\n",
        "        self.upper_case= self.str_into_bool(input('Include uppercase letters? (y/n)'))\n",
        "        self.lower_case=self.str_into_bool(input('Include lowercase letters? (y/n)'))\n",
        "        self.numbers=self.str_into_bool(input('Include numbers? (y/n)'))\n",
        "        self.symbols=self.str_into_bool(input('Include symbols? (y/n)'))\n",
        "        self.password=self.generate_passwaord(self.l_of_p,self.upper_case,self.lower_case,self.numbers,self.symbols)\n",
        "      self.password = self.encrypt(self.password).decode('utf-8')\n",
        "      with open(f\"{self.file_name}.txt\", \"a\") as f:\n",
        "        f.write(f\"{self.site}: {self.password} \\n\")\n",
        "    else:\n",
        "      conf=input('Do you want to change the password? (y/n)')\n",
        "      if conf==\"y\":\n",
        "        self.password=input('Input the password or generate it by writing generate: ')\n",
        "        if self.password==\"generate\":\n",
        "          self.l_of_p=int(input('Input the length of the password: '))\n",
        "          self.upper_case= self.str_into_bool(input('Include uppercase letters? (y/n)'))\n",
        "          self.lower_case=self.str_into_bool(input('Include lowercase letters? (y/n)'))\n",
        "          self.numbers=self.str_into_bool(input('Include numbers? (y/n)'))\n",
        "          self.symbols=self.str_into_bool(input('Include symbols? (y/n)'))\n",
        "          self.password=self.generate_passwaord(self.l_of_p,self.upper_case,self.lower_case,self.numbers,self.symbols)\n",
        "          self.password = self.encrypt(self.password).decode('utf-8')\n",
        "          self.updated_lines=[]\n",
        "        with open(f\"{self.file_name}.txt\", \"r\") as file:\n",
        "          for self.line in file:\n",
        "            if self.line.startswith(f\"{self.site}:\"):\n",
        "              self.updated_lines.append(f\"{self.site}: {self.password}\\n\")\n",
        "            else:\n",
        "              self.updated_lines.append(self.line)\n",
        "\n",
        "        with open(f\"{self.file_name}.txt\", \"w\") as file:\n",
        "          file.writelines(self.updated_lines)\n",
        "\n",
        "passw=PasswordManager(\"passwords\",\"uraa\")\n",
        "passw.add_change_password()\n"
      ],
      "metadata": {
        "id": "u3qDvOJ_bLly",
        "colab": {
          "base_uri": "https://localhost:8080/"
        },
        "outputId": "fe6e7958-9a1b-4a1c-afe7-8e79a1033b7b"
      },
      "execution_count": null,
      "outputs": [
        {
          "output_type": "stream",
          "name": "stdout",
          "text": [
            "Input the website: a\n",
            "Input the password or generate it by writing generate: generate\n",
            "Input the length of the password: 4\n",
            "Include uppercase letters? (y/n)y\n",
            "Include lowercase letters? (y/n)y\n",
            "Include numbers? (y/n)y\n",
            "Include symbols? (y/n)n\n",
            "Your new password is: fQf4\n"
          ]
        }
      ]
    },
    {
      "cell_type": "code",
      "source": [
        "print(passw.get_password())"
      ],
      "metadata": {
        "colab": {
          "base_uri": "https://localhost:8080/"
        },
        "id": "n9vHSU2IEOd0",
        "outputId": "3b59f3ac-d8ae-43a8-8df6-d6e278d6094c"
      },
      "execution_count": null,
      "outputs": [
        {
          "output_type": "stream",
          "name": "stdout",
          "text": [
            "Input the website: a\n",
            "MLSOj4p\"3Y\n"
          ]
        }
      ]
    },
    {
      "cell_type": "code",
      "source": [
        "passw.add_change_password()"
      ],
      "metadata": {
        "colab": {
          "base_uri": "https://localhost:8080/"
        },
        "id": "GQl8bIjaSm-V",
        "outputId": "47f2868b-9886-4d55-a704-59cbd83c71ec"
      },
      "execution_count": null,
      "outputs": [
        {
          "name": "stdout",
          "output_type": "stream",
          "text": [
            "Input the website: b\n",
            "Input the password: f\n"
          ]
        }
      ]
    }
  ]
}